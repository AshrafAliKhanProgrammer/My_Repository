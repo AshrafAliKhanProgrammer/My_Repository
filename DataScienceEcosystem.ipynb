{
 "cells": [
  {
   "cell_type": "markdown",
   "id": "25f78523-49ac-42f6-99d7-e3b0d95a4859",
   "metadata": {},
   "source": [
    "# Data Science Tools and Ecosystem"
   ]
  },
  {
   "cell_type": "markdown",
   "id": "28d3dd9e-6f59-48b5-9e98-26681394aa17",
   "metadata": {},
   "source": [
    "In this notebook, Data Science Tools and Ecosystem are summarized."
   ]
  },
  {
   "cell_type": "markdown",
   "id": "536d80e4-180d-4b60-be4f-9a1d7126c869",
   "metadata": {},
   "source": [
    "**Objectives**\n",
    "+ List the popular lanuages for Data Science\n",
    "+ List the some libraries for Data Science\n",
    "+ Some Arithmetic Expressions\n",
    "+ Convert minutes into hours"
   ]
  },
  {
   "cell_type": "markdown",
   "id": "829084fe-7bee-450d-a3a3-f9d544543ac2",
   "metadata": {},
   "source": [
    "Some of the popular languages that Data Scientists use are:\n",
    "1. Python\n",
    "2. R\n",
    "3. SQL"
   ]
  },
  {
   "cell_type": "markdown",
   "id": "523386c7-7eba-4ad7-b40a-719f5504ee28",
   "metadata": {},
   "source": [
    "Some of the commonly used libraries used by Data Scientists include:\n",
    "1. Pandas\n",
    "2. Numpy\n",
    "3. Matplotlib"
   ]
  },
  {
   "cell_type": "markdown",
   "id": "42afba05-04d4-4f12-a817-f96e7667d3e6",
   "metadata": {},
   "source": [
    "|Data Science Tools|\n",
    "|------------------|\n",
    "|Git|\n",
    "|Apache Subversion|\n",
    "|Apache NetBeans|"
   ]
  },
  {
   "cell_type": "markdown",
   "id": "0566aced-793c-4224-8dc6-5093a1ad7df4",
   "metadata": {},
   "source": [
    "### Below are a few examples of evaluating arithmetic expressions in Python"
   ]
  },
  {
   "cell_type": "code",
   "execution_count": 1,
   "id": "89ba031f-70af-447e-89a4-5646dcee878a",
   "metadata": {
    "tags": []
   },
   "outputs": [
    {
     "data": {
      "text/plain": [
       "17"
      ]
     },
     "execution_count": 1,
     "metadata": {},
     "output_type": "execute_result"
    }
   ],
   "source": [
    "# This a simple arithmetic expression to mutiply then add integers\n",
    "(3*4)+5"
   ]
  },
  {
   "cell_type": "code",
   "execution_count": 4,
   "id": "641656cc-7460-4592-b268-53698346bfb7",
   "metadata": {
    "tags": []
   },
   "outputs": [
    {
     "data": {
      "text/plain": [
       "3.3333333333333335"
      ]
     },
     "execution_count": 4,
     "metadata": {},
     "output_type": "execute_result"
    }
   ],
   "source": [
    "# This will convert 200 minutes to hours by diving by 60\n",
    "200/60"
   ]
  },
  {
   "cell_type": "markdown",
   "id": "60bb3f16-09bb-4306-87a6-bedf6dfe9a48",
   "metadata": {},
   "source": [
    "## Author\n",
    "Ashraf Ali Khan"
   ]
  }
 ],
 "metadata": {
  "kernelspec": {
   "display_name": "Python",
   "language": "python",
   "name": "conda-env-python-py"
  },
  "language_info": {
   "codemirror_mode": {
    "name": "ipython",
    "version": 3
   },
   "file_extension": ".py",
   "mimetype": "text/x-python",
   "name": "python",
   "nbconvert_exporter": "python",
   "pygments_lexer": "ipython3",
   "version": "3.7.12"
  }
 },
 "nbformat": 4,
 "nbformat_minor": 5
}
